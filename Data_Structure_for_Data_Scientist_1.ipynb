{
  "nbformat": 4,
  "nbformat_minor": 0,
  "metadata": {
    "colab": {
      "name": "Data_structure_for_data_scientist.ipynb",
      "provenance": [],
      "collapsed_sections": [],
      "authorship_tag": "ABX9TyNCAxIN4+cArYpOmIPe6prE",
      "include_colab_link": true
    },
    "kernelspec": {
      "name": "python3",
      "display_name": "Python 3"
    },
    "language_info": {
      "name": "python"
    }
  },
  "cells": [
    {
      "cell_type": "markdown",
      "metadata": {
        "id": "view-in-github",
        "colab_type": "text"
      },
      "source": [
        "<a href=\"https://colab.research.google.com/github/palVikram/Data_structure_and_algorithms/blob/main/Data_Structure_for_Data_Scientist_1.ipynb\" target=\"_parent\"><img src=\"https://colab.research.google.com/assets/colab-badge.svg\" alt=\"Open In Colab\"/></a>"
      ]
    },
    {
      "cell_type": "markdown",
      "source": [
        "Input: s = \"abcabcbb\"\n",
        "\n",
        "Output: 3\n",
        "\n",
        "Explanation: The answer is \"abc\", with the length of 3.\n",
        "\n",
        "==================================\n",
        "\n",
        "Input: s = \"bbbbb\"\n",
        "\n",
        "Output: 1\n",
        "\n",
        "Explanation: The answer is \"b\", with the length of 1.\n",
        "\n",
        "==================================\n",
        "\n",
        "Input: s = \"pwwkew\"\n",
        "\n",
        "Output: 3\n",
        "\n",
        "Explanation: The answer is \"wke\", with the length of 3.\n",
        "\n",
        "Notice that the answer must be a substring, \"pwke\" is a subsequence and not a substring.\n"
      ],
      "metadata": {
        "id": "4_b3Wj-Biht9"
      }
    },
    {
      "cell_type": "code",
      "source": [
        "### Longest Substring Without Repeating Characters\n",
        "def longest_substring(s):\n",
        "  ans=0\n",
        "  i=-1 ### forward \n",
        "  j=-1 ### back\n",
        "\n",
        "  map1={}\n",
        "\n",
        "  while True:\n",
        "    f1=False\n",
        "    f2=False\n",
        "    ### acquire \n",
        "    while i<len(s)-1:\n",
        "      f1=True\n",
        "      i+=1\n",
        "      map1[s[i]]=map1.setdefault(s[i],0)+1\n",
        "      if map1[s[i]]==2:\n",
        "        break\n",
        "      else: \n",
        "        length=i-j\n",
        "        if length>ans:\n",
        "          ans=length\n",
        "\n",
        "    ### release\n",
        "    while j<i:\n",
        "      f2=True\n",
        "      map1[s[j]]=map1.setdefault(s[j],0)-1\n",
        "      j+=1\n",
        "      if map1[s[j]]==1:\n",
        "        break\n",
        "    if f1==False and f2==False:\n",
        "      break\n",
        "  return ans"
      ],
      "metadata": {
        "id": "cJTwrZG_ilos"
      },
      "execution_count": 4,
      "outputs": []
    },
    {
      "cell_type": "code",
      "source": [
        "s = \"abcdabcbb\"\n",
        "longest_substring(s)"
      ],
      "metadata": {
        "colab": {
          "base_uri": "https://localhost:8080/"
        },
        "id": "ULaez5OenDcw",
        "outputId": "c27fce39-e8bb-4442-9872-38c21d42a21a"
      },
      "execution_count": 6,
      "outputs": [
        {
          "output_type": "execute_result",
          "data": {
            "text/plain": [
              "4"
            ]
          },
          "metadata": {},
          "execution_count": 6
        }
      ]
    },
    {
      "cell_type": "code",
      "source": [
        "####   Minimum Window Substring"
      ],
      "metadata": {
        "id": "l9o5enKWnX_-"
      },
      "execution_count": 7,
      "outputs": []
    },
    {
      "cell_type": "markdown",
      "source": [
        "Input: s = \"ADOBECODEBANC\", t = \"ABC\"\n",
        "\n",
        "Output: \"BANC\"\n",
        "\n",
        "Explanation: The minimum window substring \"BANC\" includes 'A', 'B', and 'C' from string t."
      ],
      "metadata": {
        "id": "xaz0VbwnquMm"
      }
    },
    {
      "cell_type": "code",
      "source": [
        "### Longest Substring Without Repeating Characters\n",
        "def longest_substring(s,t):\n",
        "\n",
        "  map2={}\n",
        "  for c in t:\n",
        "    map2[c]=map2.setdefault(c,0)+1\n",
        "\n",
        "  ans=''\n",
        "  length=0\n",
        "  i=-1 ### forward \n",
        "  j=-1 ### back\n",
        "\n",
        "  map1={}\n",
        "\n",
        "  while True:\n",
        "    f1=False\n",
        "    f2=False\n",
        "    ### acquire \n",
        "    while i<len(s)-1:\n",
        "      f1=True\n",
        "      i+=1\n",
        "      map1[s[i]]=map1.setdefault(s[i],0)+1\n",
        "      if s[i] in map2 and map1[s[i]]>1:\n",
        "        break\n",
        "      else:\n",
        "        new=s[i:j]\n",
        "        if len(new)<len(ans):\n",
        "          ans=new\n",
        "\n",
        "    ### release\n",
        "    while j<i:\n",
        "      f2=True\n",
        "      if (s[j] not in map2 and map1[s[j]]==1) or s[j] not in map1:\n",
        "        break\n",
        "      map1[s[j]]=map1.setdefault(s[j],0)-1\n",
        "      j+=1\n",
        "    print(map1)\n",
        "\n",
        "    if f1==False and f2==False:\n",
        "      break\n",
        "  return ans"
      ],
      "metadata": {
        "id": "Ko9NOJ9qqvds"
      },
      "execution_count": 41,
      "outputs": []
    },
    {
      "cell_type": "code",
      "source": [
        "s = \"ADOBECODEBANC\" \n",
        "t = \"ABC\"\n",
        "#longest_substring(s,t)"
      ],
      "metadata": {
        "id": "LFMpft6X00nt"
      },
      "execution_count": 43,
      "outputs": []
    },
    {
      "cell_type": "code",
      "source": [
        "def removeDuplicates(nums):\n",
        "  set_num=list(set(nums))\n",
        "  length=len(set_num)\n",
        "\n",
        "  if len(nums)>len(set_num):\n",
        "    set_num=set_num+['_']*(len(nums)-len(set_num))\n",
        "\n",
        "  return length, set_num"
      ],
      "metadata": {
        "id": "0sfYQ1CH7zBu"
      },
      "execution_count": 61,
      "outputs": []
    },
    {
      "cell_type": "code",
      "source": [
        "nums = [1,1,2]\n",
        "removeDuplicates(nums)"
      ],
      "metadata": {
        "colab": {
          "base_uri": "https://localhost:8080/"
        },
        "id": "C96lWqiH8z2F",
        "outputId": "d545af73-fa6c-4314-fc8e-4567270c776b"
      },
      "execution_count": 65,
      "outputs": [
        {
          "output_type": "execute_result",
          "data": {
            "text/plain": [
              "(2, [1, 2, '_'])"
            ]
          },
          "metadata": {},
          "execution_count": 65
        }
      ]
    },
    {
      "cell_type": "code",
      "source": [
        "strs = [\"eat\",\"tea\",\"tan\",\"ate\",\"nat\",\"bat\"]\n",
        "anagram_dict={}\n",
        "for s in strs:\n",
        "  ch=''.join(sorted(s))\n",
        "  anagram_dict[ch]=anagram_dict.setdefault(ch,[])+[s]\n",
        "print(anagram_dict.values())"
      ],
      "metadata": {
        "colab": {
          "base_uri": "https://localhost:8080/"
        },
        "id": "bklkjSqK1Bj6",
        "outputId": "21ee31d5-9e01-4ae1-bd92-09f99f6c90f0"
      },
      "execution_count": 67,
      "outputs": [
        {
          "output_type": "stream",
          "name": "stdout",
          "text": [
            "dict_values([['eat', 'tea', 'ate'], ['tan', 'nat'], ['bat']])\n"
          ]
        }
      ]
    },
    {
      "cell_type": "code",
      "source": [
        "import re\n",
        "s = \" \"\n",
        "\n",
        "t=''\n",
        "k=''\n",
        "for ch in s.lower():\n",
        "  if ch.isalnum():\n",
        "    t=ch+t\n",
        "    k=k+ch\n",
        "\n",
        "if t==k:\n",
        "   print(True)\n",
        "else:\n",
        "   print(False)"
      ],
      "metadata": {
        "colab": {
          "base_uri": "https://localhost:8080/"
        },
        "id": "y3VTZ8qBApHh",
        "outputId": "ccae11de-e476-4467-c2ad-f42ab4c44fe7"
      },
      "execution_count": 116,
      "outputs": [
        {
          "output_type": "stream",
          "name": "stdout",
          "text": [
            "True\n"
          ]
        }
      ]
    },
    {
      "cell_type": "code",
      "source": [
        ""
      ],
      "metadata": {
        "colab": {
          "base_uri": "https://localhost:8080/"
        },
        "id": "jei0Qz6vBW1N",
        "outputId": "96acae72-bcf0-404c-cdc4-d268584e9d6c"
      },
      "execution_count": 115,
      "outputs": [
        {
          "output_type": "stream",
          "name": "stdout",
          "text": [
            "True\n"
          ]
        }
      ]
    },
    {
      "cell_type": "code",
      "source": [
        "s = \"a\"\n",
        "t = \"\"\n",
        "length=len(set(s) & set(t))\n",
        "set(s) & set(t), len(t) if len(s)>len(t) else len(s)"
      ],
      "metadata": {
        "colab": {
          "base_uri": "https://localhost:8080/"
        },
        "id": "YSIHU6qIFLIY",
        "outputId": "eb40549f-39ef-407d-82d2-703f40b9cd57"
      },
      "execution_count": 106,
      "outputs": [
        {
          "output_type": "execute_result",
          "data": {
            "text/plain": [
              "(set(), 0)"
            ]
          },
          "metadata": {},
          "execution_count": 106
        }
      ]
    },
    {
      "cell_type": "code",
      "source": [
        "s=\" the sky  is blue \".strip().split()\n",
        "' '.join(s[::-1])"
      ],
      "metadata": {
        "colab": {
          "base_uri": "https://localhost:8080/",
          "height": 35
        },
        "id": "vNAXL3DLHMWE",
        "outputId": "c5911839-f842-4bd5-d343-130adacdb9dd"
      },
      "execution_count": 123,
      "outputs": [
        {
          "output_type": "execute_result",
          "data": {
            "text/plain": [
              "'blue is sky the'"
            ],
            "application/vnd.google.colaboratory.intrinsic+json": {
              "type": "string"
            }
          },
          "metadata": {},
          "execution_count": 123
        }
      ]
    },
    {
      "cell_type": "code",
      "source": [
        "s = [\"h\",\"e\",\"l\",\"l\",\"o\"]\n",
        "list(reversed(s))"
      ],
      "metadata": {
        "colab": {
          "base_uri": "https://localhost:8080/"
        },
        "id": "hTciToeFkuVE",
        "outputId": "dcbc7788-3e4b-4dd8-ae12-72b55a95ffcb"
      },
      "execution_count": 126,
      "outputs": [
        {
          "output_type": "execute_result",
          "data": {
            "text/plain": [
              "['o', 'l', 'l', 'e', 'h']"
            ]
          },
          "metadata": {},
          "execution_count": 126
        }
      ]
    },
    {
      "cell_type": "code",
      "source": [
        "### https://leetcode.com/explore/interview/card/microsoft/30/array-and-strings/187/\n",
        "### Reverse String\n",
        "\n",
        "s = [\"H\",\"a\",\"n\",\"n\",\"a\",\"h\"]\n",
        "i=0\n",
        "j=len(s)-1\n",
        "\n",
        "for i in range(len(s)):\n",
        "    if i>=j:\n",
        "        break\n",
        "    s[i],s[j]=s[j],s[i]\n",
        "    j-=1\n",
        "\n",
        "print(s)"
      ],
      "metadata": {
        "colab": {
          "base_uri": "https://localhost:8080/"
        },
        "id": "uqC-maO7ljHL",
        "outputId": "73671d5c-9d58-4b44-b446-d2f78de34451"
      },
      "execution_count": 135,
      "outputs": [
        {
          "output_type": "stream",
          "name": "stdout",
          "text": [
            "['h', 'a', 'n', 'n', 'a', 'H']\n"
          ]
        }
      ]
    },
    {
      "cell_type": "code",
      "source": [
        "##Reverse String\n",
        "## https://leetcode.com/explore/interview/card/microsoft/30/array-and-strings/187/\n",
        "\n",
        "left, right=0, len(s)-1\n",
        "\n",
        "mid=len(s)//2\n",
        "\n",
        "while left<=mid:\n",
        "  s[left],s[right]=s[right],s[left]\n",
        "  left+=1\n",
        "  right-=1\n",
        "\n",
        "s"
      ],
      "metadata": {
        "colab": {
          "base_uri": "https://localhost:8080/"
        },
        "id": "ktDC01O7mbnd",
        "outputId": "7dcc4184-8d31-4a8a-8a19-535aea242851"
      },
      "execution_count": 138,
      "outputs": [
        {
          "output_type": "execute_result",
          "data": {
            "text/plain": [
              "['h', 'a', 'n', 'n', 'a', 'H']"
            ]
          },
          "metadata": {},
          "execution_count": 138
        }
      ]
    },
    {
      "cell_type": "code",
      "source": [
        "### https://leetcode.com/explore/interview/card/microsoft/30/array-and-strings/202/\n",
        "### Rotate Image 90 degree rotation\n",
        "matrix=[\n",
        "        [1,2,3],\n",
        "        [4,5,6],\n",
        "        [7,8,9]]\n",
        "\n",
        "matrix=matrix[::-1]\n",
        "## [[7, 4, 1],\n",
        "## [8, 5, 2],\n",
        "## [9, 6, 3]]\n",
        "N=len(matrix)\n",
        "for i in range(N):\n",
        "  for j in range(i):\n",
        "    print((i,j),(j,i))\n",
        "    matrix[i][j],matrix[j][i]=matrix[j][i],matrix[i][j]\n",
        "\n",
        "matrix"
      ],
      "metadata": {
        "colab": {
          "base_uri": "https://localhost:8080/"
        },
        "id": "HHSkMdfF4RCj",
        "outputId": "46586de8-4c5f-406e-f42c-097532c3b7f3"
      },
      "execution_count": 9,
      "outputs": [
        {
          "output_type": "stream",
          "name": "stdout",
          "text": [
            "(1, 0) (0, 1)\n",
            "(2, 0) (0, 2)\n",
            "(2, 1) (1, 2)\n"
          ]
        },
        {
          "output_type": "execute_result",
          "data": {
            "text/plain": [
              "[[7, 4, 1], [8, 5, 2], [9, 6, 3]]"
            ]
          },
          "metadata": {},
          "execution_count": 9
        }
      ]
    },
    {
      "cell_type": "code",
      "source": [
        "### https://leetcode.com/explore/interview/card/microsoft/30/array-and-strings/213/\n",
        "### Reverse Words in a String II\n",
        "s= [\"t\",\"h\",\"e\",\" \",\"s\",\"k\",\"y\",\" \",\"i\",\"s\",\" \",\"b\",\"l\",\"u\",\"e\"]"
      ],
      "metadata": {
        "id": "abd6XSyW6XUZ"
      },
      "execution_count": 237,
      "outputs": []
    },
    {
      "cell_type": "code",
      "source": [
        "def reverse_words_helper(left, right):\n",
        "    while left < right:\n",
        "        s[left], s[right] = s[right], s[left]\n",
        "        left +=1\n",
        "        right -= 1\n",
        "        \n",
        "reverse_words_helper(0, len(s)-1)"
      ],
      "metadata": {
        "id": "a1q-uZ-KCvbf"
      },
      "execution_count": 238,
      "outputs": []
    },
    {
      "cell_type": "code",
      "source": [
        "left=0\n",
        "for index,char in enumerate(s+[\" \"]):\n",
        "  if char==' ':\n",
        "    reverse_words_helper(left, index-1)\n",
        "    left=index+1\n",
        "s"
      ],
      "metadata": {
        "colab": {
          "base_uri": "https://localhost:8080/"
        },
        "id": "kD6yzP77EHev",
        "outputId": "d8efe7dc-13c0-43e3-a1e6-a426ab38f5b9"
      },
      "execution_count": 239,
      "outputs": [
        {
          "output_type": "execute_result",
          "data": {
            "text/plain": [
              "['b', 'l', 'u', 'e', ' ', 'i', 's', ' ', 's', 'k', 'y', ' ', 't', 'h', 'e']"
            ]
          },
          "metadata": {},
          "execution_count": 239
        }
      ]
    },
    {
      "cell_type": "code",
      "source": [
        "#### https://leetcode.com/explore/interview/card/microsoft/30/array-and-strings/203/"
      ],
      "metadata": {
        "colab": {
          "base_uri": "https://localhost:8080/"
        },
        "id": "5CPHBpGmI12G",
        "outputId": "a45daf4f-18f2-4e98-e61c-b8acfbe68563"
      },
      "execution_count": 2,
      "outputs": [
        {
          "output_type": "stream",
          "name": "stdout",
          "text": [
            "1 0\n",
            "2 0\n",
            "2 1\n"
          ]
        }
      ]
    },
    {
      "cell_type": "code",
      "source": [
        "###https://leetcode.com/explore/interview/card/microsoft/30/array-and-strings/173/\n",
        "nums = [0,0,0,3,3]\n",
        "target = 6\n",
        "indices=[]\n",
        "\n",
        "i=0\n",
        "j=1\n",
        "while i<j and j<len(nums):\n",
        "  sum=nums[i]+nums[j]\n",
        "  if sum==target:\n",
        "    indices.append(i)\n",
        "    indices.append(j)\n",
        "    break\n",
        "  else:\n",
        "    j+=1\n",
        "    if j==len(nums):\n",
        "      i+=1\n",
        "      j=i+1\n",
        "\n",
        "print(indices)"
      ],
      "metadata": {
        "colab": {
          "base_uri": "https://localhost:8080/"
        },
        "id": "JQQQnDZoKsZT",
        "outputId": "0318fcd5-04b8-4d40-bd06-7c8f88b5c9d4"
      },
      "execution_count": 23,
      "outputs": [
        {
          "output_type": "stream",
          "name": "stdout",
          "text": [
            "[3, 4]\n"
          ]
        }
      ]
    },
    {
      "cell_type": "code",
      "source": [
        "nums = [2,7,11,15]\n",
        "target = 9\n",
        "dict_map = {}\n",
        "for i in range(len(nums)):\n",
        "    dict_map[nums[i]] = i\n",
        "\n",
        "for i in range(len(nums)):\n",
        "    complement = target - nums[i]\n",
        "    if complement in dict_map and dict_map[complement] != i:\n",
        "        print([i, dict_map[complement]])"
      ],
      "metadata": {
        "colab": {
          "base_uri": "https://localhost:8080/"
        },
        "id": "05Lf81ar0hdp",
        "outputId": "6d0f8d89-6067-4a2d-aa67-baf1fbb6701f"
      },
      "execution_count": 29,
      "outputs": [
        {
          "output_type": "stream",
          "name": "stdout",
          "text": [
            "[0, 1]\n",
            "[1, 0]\n"
          ]
        }
      ]
    },
    {
      "cell_type": "code",
      "source": [
        ""
      ],
      "metadata": {
        "id": "q_Y9JQqz4qAC"
      },
      "execution_count": null,
      "outputs": []
    }
  ]
}