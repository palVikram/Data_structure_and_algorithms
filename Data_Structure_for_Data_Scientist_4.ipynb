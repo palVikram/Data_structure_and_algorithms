{
  "nbformat": 4,
  "nbformat_minor": 0,
  "metadata": {
    "colab": {
      "name": "Untitled37.ipynb",
      "provenance": [],
      "collapsed_sections": [],
      "authorship_tag": "ABX9TyPskQv130W7NhosjEAQxLW5",
      "include_colab_link": true
    },
    "kernelspec": {
      "name": "python3",
      "display_name": "Python 3"
    },
    "language_info": {
      "name": "python"
    }
  },
  "cells": [
    {
      "cell_type": "markdown",
      "metadata": {
        "id": "view-in-github",
        "colab_type": "text"
      },
      "source": [
        "<a href=\"https://colab.research.google.com/github/palVikram/Data_structure_and_algorithms/blob/main/Data_Structure_for_Data_Scientist_4.ipynb\" target=\"_parent\"><img src=\"https://colab.research.google.com/assets/colab-badge.svg\" alt=\"Open In Colab\"/></a>"
      ]
    },
    {
      "cell_type": "markdown",
      "source": [
        "#### LinkedList"
      ],
      "metadata": {
        "id": "khcZB1hMOz3a"
      }
    },
    {
      "cell_type": "code",
      "execution_count": 1,
      "metadata": {
        "id": "OOP4jbxmLgZU"
      },
      "outputs": [],
      "source": [
        "class Node:\n",
        "    def __init__(self, data=None, next=None):\n",
        "        self.data = data\n",
        "        self.next = next\n"
      ]
    },
    {
      "cell_type": "code",
      "source": [
        "class LinkedList:\n",
        "    def __init__(self):\n",
        "        self.head = None\n",
        "\n",
        "    def insert_at_begining(self, data):\n",
        "      node=Node(data, self.head)\n",
        "      self.head=node\n",
        "\n",
        "    def insert_at_end(self, data):\n",
        "      if self.head is None:\n",
        "        self.head = Node(data, None)\n",
        "        return\n",
        "      itr=self.head\n",
        "\n",
        "      while itr.next:\n",
        "        itr=itr.next\n",
        "      \n",
        "      itr.next=Node(data, None)\n",
        "\n",
        "    def insert_at(self, index, data):\n",
        "      if index<0 or index>self.get_length():\n",
        "          raise Exception(\"Invalid Index\")\n",
        "\n",
        "      if index==0:\n",
        "          self.insert_at_begining(data)\n",
        "          return\n",
        "\n",
        "      itr=self.head\n",
        "      count=0\n",
        "      while itr.next:\n",
        "        if count==index-1:\n",
        "          node=Node(data, itr.next)\n",
        "          itr.next=node\n",
        "          break\n",
        "        itr=itr.next\n",
        "        count+=1\n",
        "\n",
        "    def remove_at(self, index):\n",
        "      if index<0 or index>self.get_length():\n",
        "          raise Exception(\"Invalid Index\")\n",
        "          \n",
        "      itr=self.head\n",
        "      count=0\n",
        "      while itr.next:\n",
        "        if count==index-1:\n",
        "          itr.next=itr.next.next\n",
        "          break\n",
        "        itr=itr.next\n",
        "        count+=1\n",
        "\n",
        "    def insert_values(self, data_list):\n",
        "      self.head = None\n",
        "      for data in data_list:\n",
        "          self.insert_at_end(data)\n",
        "\n",
        "    def print(self):\n",
        "        if self.head is None:\n",
        "            print(\"Linked list is empty\")\n",
        "            return\n",
        "        itr = self.head\n",
        "        llstr = ''\n",
        "        while itr:\n",
        "            llstr += str(itr.data)+' --> ' if itr.next else str(itr.data)\n",
        "            itr = itr.next\n",
        "        print(llstr)\n",
        "\n",
        "    def get_length(self):\n",
        "        count = 0\n",
        "        itr = self.head\n",
        "        while itr:\n",
        "            count+=1\n",
        "            itr = itr.next\n",
        "\n",
        "        return count"
      ],
      "metadata": {
        "id": "6R-MleHQEo70"
      },
      "execution_count": 10,
      "outputs": []
    },
    {
      "cell_type": "code",
      "source": [
        "if __name__ == '__main__':\n",
        "    ll = LinkedList()\n",
        "    ll.insert_values([\"banana\",\"mango\",\"grapes\",\"orange\"])\n",
        "    ll.insert_at(1,\"blueberry\")\n",
        "    ll.remove_at(2)\n",
        "    ll.print()\n",
        "\n",
        "    ll.insert_values([45,7,12,567,99])\n",
        "    ll.insert_at_end(67)\n",
        "    ll.print()"
      ],
      "metadata": {
        "colab": {
          "base_uri": "https://localhost:8080/"
        },
        "id": "EL-Ip1eJEt2K",
        "outputId": "4a744000-3ecd-4beb-cd8f-a3b86136ae64"
      },
      "execution_count": 11,
      "outputs": [
        {
          "output_type": "stream",
          "name": "stdout",
          "text": [
            "banana --> blueberry --> grapes --> orange\n",
            "45 --> 7 --> 12 --> 567 --> 99 --> 67\n"
          ]
        }
      ]
    },
    {
      "cell_type": "markdown",
      "source": [
        "#### Merge Sort "
      ],
      "metadata": {
        "id": "XjvRs9tH60ez"
      }
    },
    {
      "cell_type": "code",
      "source": [
        "### merging two sorting lists\n",
        "def merge_sort(arr):\n",
        "    size=len(arr)\n",
        "\n",
        "    if size==1:\n",
        "      return arr\n",
        "\n",
        "    mid=len(arr)//2\n",
        "    left= merge_sort(arr[1:mid+1])\n",
        "    right=merge_sort(arr[mid:len(arr)])\n",
        "\n",
        "    return merge_sorted_list(lstA, lstB, arr)\n",
        "  \n",
        "def merge_sorted_list(lstA, lstB, arr):\n",
        "\n",
        "  i=j=k=0\n",
        "  arr=[]\n",
        "\n",
        "  while i<len(lstA) and j<len(lstB):\n",
        "    \n",
        "    if lstA[i]<lstB[j]:\n",
        "      arr.append(lstA[i])\n",
        "      i+=1\n",
        "    else:\n",
        "      arr.append(lstB[j])\n",
        "      j+=1\n",
        "  \n",
        "  while j<len(lstB):\n",
        "    arr.append(lstB[j])\n",
        "    j+=1\n",
        "  \n",
        "  while i<len(lstA):\n",
        "    arr.append(lstA[i])\n",
        "    i+=1\n",
        "\n",
        "  return arr"
      ],
      "metadata": {
        "id": "S_Ql_ih2N1Vq"
      },
      "execution_count": 22,
      "outputs": []
    },
    {
      "cell_type": "code",
      "source": [
        "lstA=[2,5,6,9,19]\n",
        "lstB=[3,7,14,15,20]\n",
        "##merge_sorted_list(lstA, lstB)"
      ],
      "metadata": {
        "id": "55-yEzKiQh08"
      },
      "execution_count": 23,
      "outputs": []
    },
    {
      "cell_type": "code",
      "source": [
        "lst=[3,7,14,15,20,2,5,6,9,19]\n",
        "merge_sort(lst)"
      ],
      "metadata": {
        "colab": {
          "base_uri": "https://localhost:8080/"
        },
        "id": "WVcmTRu1Qs1U",
        "outputId": "2a90d279-6783-4a5c-a65d-3a4eb9f5cfc9"
      },
      "execution_count": 24,
      "outputs": [
        {
          "output_type": "execute_result",
          "data": {
            "text/plain": [
              "[2, 3, 5, 6, 7, 9, 14, 15, 19, 20]"
            ]
          },
          "metadata": {},
          "execution_count": 24
        }
      ]
    },
    {
      "cell_type": "markdown",
      "source": [
        "#### BINARY SEARCH TREE"
      ],
      "metadata": {
        "id": "dbaIf3Cn64kJ"
      }
    },
    {
      "cell_type": "code",
      "source": [
        "class BinarySearchTreeNode:\n",
        "    def __init__(self, data):\n",
        "        self.data = data\n",
        "        self.left = None\n",
        "        self.right = None\n",
        "\n",
        "    def add_child(self, data):\n",
        "        if data == self.data:\n",
        "            return # node already exist\n",
        "\n",
        "        if data < self.data:\n",
        "            if self.left:\n",
        "                self.left.add_child(data)\n",
        "            else:\n",
        "                self.left = BinarySearchTreeNode(data)\n",
        "        else:\n",
        "            if self.right:\n",
        "                self.right.add_child(data)\n",
        "            else:\n",
        "                self.right = BinarySearchTreeNode(data)\n",
        "\n",
        "    def search(self, val):\n",
        "      if self.data==val:\n",
        "        return True\n",
        "\n",
        "      if val< self.data:\n",
        "        return self.left.search(val)\n",
        "      else: \n",
        "        return False\n",
        "\n",
        "      if val> self.data:\n",
        "        if self.right:\n",
        "          return self.right.search(val)\n",
        "        else:\n",
        "          return False\n",
        "\n",
        "    def in_order_traversal(self):\n",
        "      elements=[]\n",
        "\n",
        "      if self.left:\n",
        "        elements+=self.left.in_order_traversal()\n",
        "\n",
        "      elements.append(self.data)\n",
        "\n",
        "      if self.right:\n",
        "        elements+=self.right.in_order_traversal()\n",
        "\n",
        "      return elements\n",
        "\n",
        "    def find_min(self):\n",
        "      if self.left is None:\n",
        "        return self.data\n",
        "      return self.left.find_min()\n",
        "\n",
        "    def find_max(self):\n",
        "      if self.right is None:\n",
        "        return self.data\n",
        "      return self.right.find_max()   \n",
        "\n",
        "    def calculate_sum(self):\n",
        "      left=self.left.calculate_sum() if self.left else 0\n",
        "      right=self.right.calculate_sum() if self.right else 0\n",
        "\n",
        "      return self.data+left+right \n",
        "\n",
        "    def max_depth(self):\n",
        "      left=self.left.max_depth() if self.left else 0\n",
        "      right=self.right.max_depth() if self.right else 0\n",
        "\n",
        "      return max(left,right)+1\n",
        "\n",
        "def build_tree(elements):\n",
        "    print(\"Building tree with these elements:\",elements)\n",
        "    root = BinarySearchTreeNode(elements[0])\n",
        "\n",
        "    for i in range(1,len(elements)):\n",
        "        root.add_child(elements[i])\n",
        "\n",
        "    return root\n",
        "\n",
        "if __name__ == '__main__':\n",
        "    countries = [\"India\",\"Pakistan\",\"Germany\", \"USA\",\"China\",\"India\",\"UK\",\"USA\"]\n",
        "    country_tree = build_tree(countries)\n",
        "\n",
        "    print(\"UK is in the list? \", country_tree.search(\"UK\"))\n",
        "    print(\"Sweden is in the list? \", country_tree.search(\"Sweden\"))\n",
        "\n",
        "    numbers_tree = build_tree([17, 4, 1, 20, 9, 23, 18, 34])\n",
        "    print(\"In order traversal gives this sorted list:\",numbers_tree.in_order_traversal())    \n",
        "    \n",
        "    print('find min value', numbers_tree.find_min())\n",
        "\n",
        "    print('find max value',numbers_tree.find_max())\n",
        "\n",
        "    print('calculate sum', numbers_tree.calculate_sum())\n",
        "\n",
        "    print('max depth', numbers_tree.max_depth())\n",
        "\n"
      ],
      "metadata": {
        "colab": {
          "base_uri": "https://localhost:8080/"
        },
        "id": "hYQICCnZSuoY",
        "outputId": "563b0cb5-be5e-4950-e8c8-b5591bfa8cef"
      },
      "execution_count": 37,
      "outputs": [
        {
          "output_type": "stream",
          "name": "stdout",
          "text": [
            "Building tree with these elements: ['India', 'Pakistan', 'Germany', 'USA', 'China', 'India', 'UK', 'USA']\n",
            "UK is in the list?  False\n",
            "Sweden is in the list?  False\n",
            "Building tree with these elements: [17, 4, 1, 20, 9, 23, 18, 34]\n",
            "In order traversal gives this sorted list: [1, 4, 9, 17, 18, 20, 23, 34]\n",
            "find min value 1\n",
            "find max value 34\n",
            "calculate sum 126\n",
            "max depth 4\n"
          ]
        }
      ]
    },
    {
      "cell_type": "markdown",
      "source": [
        "### GRAPH "
      ],
      "metadata": {
        "id": "pAvI_Boj6_RX"
      }
    },
    {
      "cell_type": "code",
      "source": [
        "class Graph:\n",
        "    def __init__(self, edges):\n",
        "        self.edges = edges\n",
        "        self.graph_dict={}\n",
        "\n",
        "        for start, end in self.edges:\n",
        "          self.graph_dict[start]=self.graph_dict.setdefault(start,[])+[end]\n",
        "\n",
        "    def get_paths(self, start, end, path=[]):\n",
        "        path = path + [start]\n",
        "\n",
        "        if start == end:\n",
        "            return [path]\n",
        "\n",
        "        if start not in self.graph_dict:\n",
        "            return []\n",
        "\n",
        "        paths = []\n",
        "        for node in self.graph_dict[start]:\n",
        "            if node not in path:\n",
        "                new_paths = self.get_paths(node, end, path)\n",
        "                for p in new_paths:\n",
        "                    paths.append(p)\n",
        "\n",
        "        return paths\n",
        "\n",
        "    def get_shortest_path(self, start, end, path=[]):\n",
        "        path = path + [start]\n",
        "\n",
        "        if start == end:\n",
        "            return path\n",
        "\n",
        "        if start not in self.graph_dict:\n",
        "            return None\n",
        "\n",
        "        shortest_path = None\n",
        "        for node in self.graph_dict[start]:\n",
        "            if node not in path:\n",
        "                sp = self.get_shortest_path(node, end, path)\n",
        "                print(sp)\n",
        "                if sp:\n",
        "                    if shortest_path is None or len(sp) < len(shortest_path):\n",
        "                        shortest_path = sp\n",
        "\n",
        "        return shortest_path\n"
      ],
      "metadata": {
        "id": "7NFodyw_wj_q"
      },
      "execution_count": 53,
      "outputs": []
    },
    {
      "cell_type": "code",
      "source": [
        "if __name__ == '__main__':\n",
        "\n",
        "    routes = [\n",
        "        (\"Mumbai\",\"Pune\"),\n",
        "        (\"Mumbai\", \"Surat\"),\n",
        "        (\"Surat\", \"Bangaluru\"),\n",
        "        (\"Pune\",\"Hyderabad\"),\n",
        "        (\"Pune\",\"Mysuru\"),\n",
        "        (\"Hyderabad\",\"Bangaluru\"),\n",
        "        (\"Hyderabad\", \"Chennai\"),\n",
        "        (\"Mysuru\", \"Bangaluru\"),\n",
        "        (\"Chennai\", \"Bangaluru\")\n",
        "    ]\n",
        "\n",
        "    routes = [\n",
        "        (\"Mumbai\", \"Paris\"),\n",
        "        (\"Mumbai\", \"Dubai\"),\n",
        "        (\"Paris\", \"Dubai\"),\n",
        "        (\"Paris\", \"New York\"),\n",
        "        (\"Dubai\", \"New York\"),\n",
        "        (\"New York\", \"Toronto\"),\n",
        "    ]\n",
        "\n",
        "    route_graph = Graph(routes)\n",
        "\n",
        "    start = \"Mumbai\"\n",
        "    end = \"New York\"\n",
        "\n",
        "    print(f\"All paths between: {start} and {end}: \",route_graph.get_paths(start,end))\n",
        "    print(f\"Shortest path between {start} and {end}: \", route_graph.get_shortest_path(start,end))\n",
        "\n",
        "    start = \"Dubai\"\n",
        "    end = \"New York\"\n",
        "\n",
        "    print(f\"All paths between: {start} and {end}: \",route_graph.get_paths(start,end))\n",
        "    print(f\"Shortest path between {start} and {end}: \", route_graph.get_shortest_path(start,end))"
      ],
      "metadata": {
        "colab": {
          "base_uri": "https://localhost:8080/"
        },
        "id": "3Xxu91s5yK2E",
        "outputId": "66331486-2bde-4767-a149-769b1d2ba692"
      },
      "execution_count": 54,
      "outputs": [
        {
          "output_type": "stream",
          "name": "stdout",
          "text": [
            "All paths between: Mumbai and New York:  [['Mumbai', 'Paris', 'Dubai', 'New York'], ['Mumbai', 'Paris', 'New York'], ['Mumbai', 'Dubai', 'New York']]\n",
            "['Mumbai', 'Paris', 'Dubai', 'New York']\n",
            "['Mumbai', 'Paris', 'Dubai', 'New York']\n",
            "['Mumbai', 'Paris', 'New York']\n",
            "['Mumbai', 'Paris', 'New York']\n",
            "['Mumbai', 'Dubai', 'New York']\n",
            "['Mumbai', 'Dubai', 'New York']\n",
            "Shortest path between Mumbai and New York:  ['Mumbai', 'Paris', 'New York']\n",
            "All paths between: Dubai and New York:  [['Dubai', 'New York']]\n",
            "['Dubai', 'New York']\n",
            "Shortest path between Dubai and New York:  ['Dubai', 'New York']\n"
          ]
        }
      ]
    },
    {
      "cell_type": "markdown",
      "source": [
        "BREATH FIRST SEARCH"
      ],
      "metadata": {
        "id": "lly7ImyR7Cx6"
      }
    },
    {
      "cell_type": "code",
      "source": [
        "def bfs(data, start, visited=set()):\n",
        "\n",
        "    queue = [start]\n",
        "\n",
        "    while queue:\n",
        "        current_node = queue.pop(0)\n",
        "        if current_node not in visited:\n",
        "            print(current_node, end=\" \")\n",
        "        visited.add(current_node)\n",
        "\n",
        "        for i in data[current_node] - visited:\n",
        "            queue.append(i)\n",
        "    return\n",
        "\n",
        "\n",
        "if __name__ == '__main__':\n",
        "\n",
        "    data = {\n",
        "        'A': {'B'}, 'B': {'A', 'C', 'D'}, 'C': {'B', 'E'}, 'D': {'B', 'E'},\n",
        "        'E': {'C', 'D', 'F'}, 'F': {'E'}\n",
        "    }\n",
        "\n",
        "    bfs(data, 'A')"
      ],
      "metadata": {
        "colab": {
          "base_uri": "https://localhost:8080/"
        },
        "id": "Z7ZM3LEs2tqZ",
        "outputId": "b540fb14-3106-436b-d3c5-d8e2e16950c7"
      },
      "execution_count": 55,
      "outputs": [
        {
          "output_type": "stream",
          "name": "stdout",
          "text": [
            "A B D C E F "
          ]
        }
      ]
    },
    {
      "cell_type": "markdown",
      "source": [
        "DEPTH FIRST SEARCH"
      ],
      "metadata": {
        "id": "H-4fXvc97Fwk"
      }
    },
    {
      "cell_type": "code",
      "source": [
        "# function for depth first search\n",
        "def find_employees(data, start, employee, visited=set()):\n",
        "    # if not visited print it\n",
        "    if start not in visited:\n",
        "        print(start, end=\" \")\n",
        "        if start == employee:\n",
        "            print(\":\", end=\" \")\n",
        "    visited.add(start)\n",
        "\n",
        "    for i in data[start] - visited:\n",
        "        # if not visited go in depth of it\n",
        "        find_employees(data, i, visited)\n",
        "    return\n",
        "\n",
        "\n",
        "# sample data in dictionary form\n",
        "data = {\n",
        "    \"karan\": {\"darshan\", \"nikhil\"},\n",
        "    \"darshan\": {\"khantil\", \"tanuj\"},\n",
        "    \"tanuj\": {\"nikhil\"},\n",
        "    \"krinish\": {\"hetul\"},\n",
        "    \"khantil\": set(),\n",
        "    \"nikhil\": set()\n",
        "}\n",
        "\n",
        "\n",
        "if __name__ == '__main__':\n",
        "\n",
        "    find_employees(data, \"karan\", \"karan\")"
      ],
      "metadata": {
        "colab": {
          "base_uri": "https://localhost:8080/"
        },
        "id": "Xb8JxvC46XnW",
        "outputId": "574f69e9-34d2-46c0-99cf-469c52d0f9c5"
      },
      "execution_count": 56,
      "outputs": [
        {
          "output_type": "stream",
          "name": "stdout",
          "text": [
            "karan : nikhil darshan khantil tanuj "
          ]
        }
      ]
    },
    {
      "cell_type": "markdown",
      "source": [
        "#### https://leetcode.com/explore/interview/card/facebook/5/array-and-strings/3015/\n"
      ],
      "metadata": {
        "id": "mxZpEJVHYqxd"
      }
    },
    {
      "cell_type": "code",
      "source": [
        "### one edit distance\n",
        "s = \"abgg\"\n",
        "t = \"acb\"\n",
        "\n",
        "i=-1 \n",
        "j=-1\n",
        "\n",
        "while i<len(s) and j<len(t):\n",
        "  i+=1\n",
        "  j+=1\n",
        "\n",
        "  if s[:i]+s[i+1:]==t:\n",
        "    print(True)\n",
        "\n",
        "  if t[:i]+t[i+1:]==s:\n",
        "    print(True)\n",
        "\n",
        "  if t[:i]+t[i+1:]==s[:i]+s[i+1:]:\n",
        "    print(True)\n"
      ],
      "metadata": {
        "id": "8w_iM34a6YIW"
      },
      "execution_count": 58,
      "outputs": []
    },
    {
      "cell_type": "markdown",
      "source": [
        "https://leetcode.com/explore/interview/card/facebook/5/array-and-strings/289/"
      ],
      "metadata": {
        "id": "Sz-ZGAKoYl3C"
      }
    },
    {
      "cell_type": "code",
      "source": [
        "def validPalindrome(s):\n",
        "    a_pointer=0\n",
        "    b_pointer=len(s)-1\n",
        "\n",
        "    while a_pointer<=b_pointer:\n",
        "\n",
        "        if s[a_pointer]!=s[b_pointer]:\n",
        "            return helper(s, a_pointer+1,b_pointer) or helper(s, a_pointer,b_pointer-1)\n",
        "        a_pointer+=1\n",
        "        b_pointer-=1\n",
        "    return True\n",
        "\n",
        "def helper(s,a_pointer,b_pointer):\n",
        "    print(s,a_pointer,b_pointer)\n",
        "    while a_pointer<=b_pointer:\n",
        "        if s[a_pointer]!=s[b_pointer]:\n",
        "            return False\n",
        "        a_pointer+=1\n",
        "        b_pointer-=1\n",
        "    return True"
      ],
      "metadata": {
        "id": "Gclbt0OWSA-k"
      },
      "execution_count": 60,
      "outputs": []
    },
    {
      "cell_type": "code",
      "source": [
        "validPalindrome('abcdba')"
      ],
      "metadata": {
        "colab": {
          "base_uri": "https://localhost:8080/"
        },
        "id": "vuTfhgECVkCp",
        "outputId": "84d6f87b-7e46-425d-f85f-51a655b1ddee"
      },
      "execution_count": 62,
      "outputs": [
        {
          "output_type": "stream",
          "name": "stdout",
          "text": [
            "abcdba 3 3\n"
          ]
        },
        {
          "output_type": "execute_result",
          "data": {
            "text/plain": [
              "True"
            ]
          },
          "metadata": {},
          "execution_count": 62
        }
      ]
    },
    {
      "cell_type": "code",
      "source": [
        ""
      ],
      "metadata": {
        "id": "5w8441TdYIms"
      },
      "execution_count": null,
      "outputs": []
    }
  ]
}