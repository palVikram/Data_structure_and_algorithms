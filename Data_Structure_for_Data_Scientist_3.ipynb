{
  "cells": [
    {
      "cell_type": "markdown",
      "metadata": {
        "id": "view-in-github",
        "colab_type": "text"
      },
      "source": [
        "<a href=\"https://colab.research.google.com/github/palVikram/Data_structure_and_algorithms/blob/main/Data_Structure_for_Data_Scientist_3.ipynb\" target=\"_parent\"><img src=\"https://colab.research.google.com/assets/colab-badge.svg\" alt=\"Open In Colab\"/></a>"
      ]
    },
    {
      "cell_type": "markdown",
      "source": [
        "#### Stack: Last in first out \n",
        "\n",
        "Time Complexlity:\n",
        "\n",
        "Push/Pop element: O(1)\n",
        "\n",
        "Search element by value: O(n)"
      ],
      "metadata": {
        "id": "r9wXbu8T1Bio"
      }
    },
    {
      "cell_type": "code",
      "source": [
        "from collections import deque"
      ],
      "metadata": {
        "id": "5Bx5Hjll157j"
      },
      "execution_count": null,
      "outputs": []
    },
    {
      "cell_type": "code",
      "source": [
        "class Stack:\n",
        "    def __init__(self):\n",
        "        self.container = deque()\n",
        "    \n",
        "    def push(self,val):\n",
        "        self.container.append(val)\n",
        "        \n",
        "    def pop(self):\n",
        "        return self.container.pop()\n",
        "    \n",
        "    def peek(self):\n",
        "        return  self.container[-1]\n",
        "    \n",
        "    def is_empty(self):\n",
        "        return len(self.container)==0\n",
        "    \n",
        "    def size(self):\n",
        "        return len(self.container)"
      ],
      "metadata": {
        "id": "tiX_tG1F3T9b"
      },
      "execution_count": null,
      "outputs": []
    },
    {
      "cell_type": "code",
      "source": [
        "stack=Stack()\n",
        "stack.push('https://www.cnn.com/')\n",
        "stack.push('https://www.cnn.com/world')\n",
        "stack.push('https://www.cnn.com/india')\n",
        "stack.push('https://www.cnn.com/china')"
      ],
      "metadata": {
        "id": "HwzpKiDL2ZHR"
      },
      "execution_count": null,
      "outputs": []
    },
    {
      "cell_type": "code",
      "source": [
        "stack.pop()"
      ],
      "metadata": {
        "colab": {
          "base_uri": "https://localhost:8080/",
          "height": 36
        },
        "id": "E4ddN0cl2urk",
        "outputId": "fc3132fb-5136-4e8c-d888-abc73b46ef1c"
      },
      "execution_count": null,
      "outputs": [
        {
          "output_type": "execute_result",
          "data": {
            "text/plain": [
              "'https://www.cnn.com/china'"
            ],
            "application/vnd.google.colaboratory.intrinsic+json": {
              "type": "string"
            }
          },
          "metadata": {},
          "execution_count": 15
        }
      ]
    },
    {
      "cell_type": "code",
      "source": [
        "stack.peek()"
      ],
      "metadata": {
        "colab": {
          "base_uri": "https://localhost:8080/",
          "height": 36
        },
        "id": "YZpPXP3k3muQ",
        "outputId": "dad1b18c-abf8-49c2-9c9c-e74a31db604f"
      },
      "execution_count": null,
      "outputs": [
        {
          "output_type": "execute_result",
          "data": {
            "text/plain": [
              "'https://www.cnn.com/india'"
            ],
            "application/vnd.google.colaboratory.intrinsic+json": {
              "type": "string"
            }
          },
          "metadata": {},
          "execution_count": 16
        }
      ]
    },
    {
      "cell_type": "markdown",
      "source": [
        "### Queue : First come first out \n",
        "Always append in left\n",
        "\n",
        "Enqueueing: time complexity is O(1)\n",
        "\n",
        "Dequeueing: time complexity is O(1)\n",
        "\n",
        "Searching: time complexity is O(n)"
      ],
      "metadata": {
        "id": "GkyXK2EUJC1c"
      }
    },
    {
      "cell_type": "code",
      "source": [
        "from collections import deque\n",
        "\n",
        "class Queue:\n",
        "    def __init__(self):\n",
        "        self.buffer = deque()\n",
        "    \n",
        "    def enqueue(self,val):\n",
        "        self.buffer.appendleft(val)\n",
        "        \n",
        "    def dequeue(self):\n",
        "        return self.buffer.pop()\n",
        "    \n",
        "    def peek(self):\n",
        "        return  self.buffer[-1]\n",
        "    \n",
        "    def is_empty(self):\n",
        "        return len(self.buffer)==0\n",
        "    \n",
        "    def size(self):\n",
        "        return len(self.buffer)"
      ],
      "metadata": {
        "id": "86uBgjeD3qpB"
      },
      "execution_count": null,
      "outputs": []
    },
    {
      "cell_type": "code",
      "source": [
        "pq = Queue()\n",
        "\n",
        "pq.enqueue({\n",
        "    'company': 'Wall Mart',\n",
        "    'timestamp': '15 apr, 11.01 AM',\n",
        "    'price': 131.10\n",
        "})\n",
        "pq.enqueue({\n",
        "    'company': 'Wall Mart',\n",
        "    'timestamp': '15 apr, 11.02 AM',\n",
        "    'price': 132\n",
        "})\n",
        "pq.enqueue({\n",
        "    'company': 'Wall Mart',\n",
        "    'timestamp': '15 apr, 11.03 AM',\n",
        "    'price': 135\n",
        "})"
      ],
      "metadata": {
        "id": "X9_T65kUKArk"
      },
      "execution_count": null,
      "outputs": []
    },
    {
      "cell_type": "code",
      "source": [
        "pq.size()"
      ],
      "metadata": {
        "colab": {
          "base_uri": "https://localhost:8080/"
        },
        "id": "VTPCx9EsKYeB",
        "outputId": "24b668a6-981d-423c-f927-ee013457a63d"
      },
      "execution_count": null,
      "outputs": [
        {
          "output_type": "execute_result",
          "data": {
            "text/plain": [
              "3"
            ]
          },
          "metadata": {},
          "execution_count": 20
        }
      ]
    },
    {
      "cell_type": "code",
      "source": [
        "pq.dequeue()"
      ],
      "metadata": {
        "colab": {
          "base_uri": "https://localhost:8080/"
        },
        "id": "f0-hp9Z3KaTx",
        "outputId": "d9c845af-7ec8-4588-886f-76a442f5d9eb"
      },
      "execution_count": null,
      "outputs": [
        {
          "output_type": "execute_result",
          "data": {
            "text/plain": [
              "{'company': 'Wall Mart', 'price': 131.1, 'timestamp': '15 apr, 11.01 AM'}"
            ]
          },
          "metadata": {},
          "execution_count": 21
        }
      ]
    },
    {
      "cell_type": "code",
      "source": [
        "pq.dequeue()"
      ],
      "metadata": {
        "colab": {
          "base_uri": "https://localhost:8080/"
        },
        "id": "IUak2ynBKbwh",
        "outputId": "d8e7bc83-a4d0-4164-be1d-7e5de914ebb1"
      },
      "execution_count": null,
      "outputs": [
        {
          "output_type": "execute_result",
          "data": {
            "text/plain": [
              "{'company': 'Wall Mart', 'price': 132, 'timestamp': '15 apr, 11.02 AM'}"
            ]
          },
          "metadata": {},
          "execution_count": 22
        }
      ]
    },
    {
      "cell_type": "code",
      "source": [
        "import time\n",
        "import threading\n",
        "food_order_queue = Queue()\n",
        "\n",
        "def place_orders(orders):\n",
        "    for order in orders:\n",
        "        print(\"Placing order for:\",order)\n",
        "        food_order_queue.enqueue(order)\n",
        "        time.sleep(0.5)\n",
        "\n",
        "\n",
        "def serve_orders():\n",
        "    time.sleep(1)\n",
        "    while True:\n",
        "        order = food_order_queue.dequeue()\n",
        "        print(\"Now serving: \",order)\n",
        "        time.sleep(2)\n",
        "\n",
        "if __name__ == '__main__':\n",
        "    orders = ['pizza','samosa','pasta','biryani','burger']\n",
        "    t1 = threading.Thread(target=place_orders, args=(orders,))\n",
        "    t2 = threading.Thread(target=serve_orders)\n",
        "\n",
        "    t1.start()\n",
        "    t2.start()"
      ],
      "metadata": {
        "colab": {
          "base_uri": "https://localhost:8080/"
        },
        "id": "gNdQx3yxKdRe",
        "outputId": "f2e88d5c-6bf5-465f-947c-9cf9e17aa01e"
      },
      "execution_count": null,
      "outputs": [
        {
          "output_type": "stream",
          "name": "stdout",
          "text": [
            "Placing order for: pizza\n"
          ]
        }
      ]
    },
    {
      "cell_type": "code",
      "source": [
        ""
      ],
      "metadata": {
        "id": "nxMk7U67Lexg"
      },
      "execution_count": null,
      "outputs": []
    }
  ],
  "metadata": {
    "colab": {
      "collapsed_sections": [],
      "name": "Stack_and_Queue_using_python",
      "provenance": [],
      "include_colab_link": true
    },
    "kernelspec": {
      "display_name": "Python 3",
      "name": "python3"
    }
  },
  "nbformat": 4,
  "nbformat_minor": 0
}