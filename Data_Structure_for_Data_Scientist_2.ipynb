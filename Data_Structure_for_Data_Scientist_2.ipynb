{
  "cells": [
    {
      "cell_type": "markdown",
      "metadata": {
        "id": "view-in-github",
        "colab_type": "text"
      },
      "source": [
        "<a href=\"https://colab.research.google.com/github/palVikram/Data_structure_and_algorithms/blob/main/Data_Structure_for_Data_Scientist_2.ipynb\" target=\"_parent\"><img src=\"https://colab.research.google.com/assets/colab-badge.svg\" alt=\"Open In Colab\"/></a>"
      ]
    },
    {
      "cell_type": "markdown",
      "source": [
        "### Hash Table \n",
        "Lookup by key is O(1) on average \n",
        "\n",
        "Insertion/Deletion is O(1) on average\n",
        "\n",
        "In Python, we use Dictionary to implement Hash Table"
      ],
      "metadata": {
        "id": "xEBaH6CuQwhf"
      }
    },
    {
      "cell_type": "code",
      "source": [
        "class HashTable:\n",
        "  def __init__(self):\n",
        "    self.Max=100\n",
        "    self.arr=[None]*self.Max\n",
        "  def get_hash(self,key):\n",
        "    h=0\n",
        "    for char in key:\n",
        "      h+=ord(char)\n",
        "    return h%100\n",
        "\n",
        "  def __setitem__(self, key, val):\n",
        "    h=self.get_hash(key)\n",
        "    self.arr[h]=val\n",
        "\n",
        "  def __getitem__(self, key):\n",
        "    h=self.get_hash(key)\n",
        "    return self.arr[h]\n",
        "\n",
        "  def __delitem__(self, key):\n",
        "    h=self.get_hash(key)\n",
        "    self.arr[h]=None"
      ],
      "metadata": {
        "id": "5-OJemZaQ-NE"
      },
      "execution_count": 20,
      "outputs": []
    },
    {
      "cell_type": "code",
      "source": [
        "t=HashTable()\n",
        "t.get_hash('march 6')"
      ],
      "metadata": {
        "id": "6JQNQXH-RTei",
        "outputId": "a213b057-87ae-439e-984b-24ce4815d823",
        "colab": {
          "base_uri": "https://localhost:8080/"
        }
      },
      "execution_count": 21,
      "outputs": [
        {
          "output_type": "execute_result",
          "data": {
            "text/plain": [
              "9"
            ]
          },
          "metadata": {},
          "execution_count": 21
        }
      ]
    },
    {
      "cell_type": "code",
      "source": [
        "t['march 6']=130"
      ],
      "metadata": {
        "id": "_BpkBmq8vq2a"
      },
      "execution_count": 22,
      "outputs": []
    },
    {
      "cell_type": "code",
      "source": [
        "t['march 6']"
      ],
      "metadata": {
        "id": "tymN2l2bvsKy",
        "outputId": "000657b1-6404-4cf2-857d-3d541a9b79c7",
        "colab": {
          "base_uri": "https://localhost:8080/"
        }
      },
      "execution_count": 23,
      "outputs": [
        {
          "output_type": "execute_result",
          "data": {
            "text/plain": [
              "130"
            ]
          },
          "metadata": {},
          "execution_count": 23
        }
      ]
    },
    {
      "cell_type": "markdown",
      "source": [
        "#### Chaining:\n",
        "In hashtable collsion, when we have two value the same hashfunction. Using chaining process, we append both value in a linked list \n",
        "\n",
        "#### Linear Probing:\n",
        "Check empty space in the list to store to colliding hash."
      ],
      "metadata": {
        "id": "6oWfTmgL0BNB"
      }
    },
    {
      "cell_type": "code",
      "source": [
        "class HashTable:\n",
        "  def __init__(self):\n",
        "    self.Max=100\n",
        "    self.arr=[[]*self.Max]\n",
        "  def get_hash(self,key):\n",
        "    h=0\n",
        "    for char in key:\n",
        "      h+=ord(char)\n",
        "    return h%100\n",
        "\n",
        "  def __setitem__(self, key, val):\n",
        "    h=self.get_hash(key)\n",
        "    found=False\n",
        "\n",
        "    for idx,element in enumerate(self.arr[h]):\n",
        "      if len(element)==2 and element[0]==key:\n",
        "        self.arr[h][idx]=(key,val)\n",
        "        found=True\n",
        "        break\n",
        "    if not found:\n",
        "      self.arr[h].append((key,val))\n",
        "\n",
        "  def __getitem__(self, key):\n",
        "    h=self.get_hash(key)\n",
        "    return self.arr[h]\n",
        "\n",
        "  def __delitem__(self, key):\n",
        "    h=self.get_hash(key)\n",
        "    self.arr[h]=None"
      ],
      "metadata": {
        "id": "uYZtgsylv1Oz"
      },
      "execution_count": 25,
      "outputs": []
    },
    {
      "cell_type": "code",
      "source": [
        "def binary_serach(numbers, key):\n",
        "  left=0\n",
        "  right=len(numbers)-1\n",
        "  mid=0\n",
        "\n",
        "  while left<=right:\n",
        "    mid=(left+right)//2\n",
        "\n",
        "    if numbers[mid]==key:\n",
        "      return mid\n",
        "    if numbers[mid]<key:\n",
        "      left=mid+1\n",
        "    else:\n",
        "      right=mid-1\n",
        "  return -1\n",
        "\n",
        "def find_all_occurances(numbers, number_to_find):\n",
        "    index = binary_serach(numbers, number_to_find)\n",
        "    indices = [index]\n",
        "    # find indices on left hand side\n",
        "    i = index-1\n",
        "    while i >=0:\n",
        "        if numbers[i] == number_to_find:\n",
        "            indices.append(i)\n",
        "        else:\n",
        "            break\n",
        "        i = i - 1\n",
        "\n",
        "    # find indices on right hand side\n",
        "    i = index + 1\n",
        "    while i<len(numbers):\n",
        "        if numbers[i] == number_to_find:\n",
        "            indices.append(i)\n",
        "        else:\n",
        "            break\n",
        "        i = i + 1\n",
        "\n",
        "    return sorted(indices)"
      ],
      "metadata": {
        "id": "8GrAjIky3l6V"
      },
      "execution_count": 37,
      "outputs": []
    },
    {
      "cell_type": "code",
      "source": [
        "numbers = [1,4,6,9,11,15,15,15,17,21,34,34,56]\n",
        "number_to_find = 15  \n",
        "find_all_occurances(numbers, number_to_find)"
      ],
      "metadata": {
        "id": "6FCOa2KYApmY",
        "outputId": "48ecb023-c3e6-4318-920b-a5eac178470d",
        "colab": {
          "base_uri": "https://localhost:8080/"
        }
      },
      "execution_count": 38,
      "outputs": [
        {
          "output_type": "execute_result",
          "data": {
            "text/plain": [
              "[5, 6, 7]"
            ]
          },
          "metadata": {},
          "execution_count": 38
        }
      ]
    },
    {
      "cell_type": "code",
      "source": [
        "def merge_sort(arr):\n",
        "  if len(arr)<=1:\n",
        "    return \n",
        "\n",
        "  mid=len(arr)//2\n",
        "\n",
        "  left=arr[:mid]\n",
        "  right=arr[mid:]\n",
        "\n",
        "  merge_sort(left)\n",
        "  merge_sort(right)\n",
        "  print(123)\n",
        "  return merge_sort_two_list(left, right, arr)\n",
        "\n",
        "def merge_sort_two_list(lstA, lstB,arr):\n",
        "  i=j=k=0\n",
        "\n",
        "  while i<len(lstA) and j<len(lstB):\n",
        "\n",
        "    if lstA[i]<=lstB[j]:\n",
        "      arr[k]=lstA[i]\n",
        "      i+=1\n",
        "    else:\n",
        "      arr[k]=lstB[j]\n",
        "      j+=1\n",
        "    k+=1\n",
        "  while j<len(lstB):\n",
        "    arr[k]=lstA[j]\n",
        "    j+=1\n",
        "    k+=1\n",
        "\n",
        "  while i<len(lstA):\n",
        "    arr[k]=lstA[i]\n",
        "    i+=1\n",
        "    k+=1\n",
        "\n",
        "  return arr\n",
        "\n",
        "\n",
        "if __name__=='main':\n",
        "  lstA=[5,10,20,28,20,23,25,26]\n",
        "\n",
        "  print(merge_sort(lstA))"
      ],
      "metadata": {
        "id": "6cn5ZYVdAtPf"
      },
      "execution_count": 21,
      "outputs": []
    },
    {
      "cell_type": "code",
      "source": [
        "def merge_sort(arr):\n",
        "    if len(arr) <= 1:\n",
        "        return\n",
        "\n",
        "    mid = len(arr)//2\n",
        "\n",
        "    left = arr[:mid]\n",
        "    right = arr[mid:]\n",
        "\n",
        "    merge_sort(left)\n",
        "    merge_sort(right)\n",
        "    print(123)\n",
        "    merge_two_sorted_lists(left, right, arr)\n",
        "\n",
        "def merge_two_sorted_lists(a,b,arr):\n",
        "    len_a = len(a)\n",
        "    len_b = len(b)\n",
        "\n",
        "    i = j = k = 0\n",
        "\n",
        "    while i < len_a and j < len_b:\n",
        "        if a[i] <= b[j]:\n",
        "            arr[k] = a[i]\n",
        "            i+=1\n",
        "        else:\n",
        "            arr[k] = b[j]\n",
        "            j+=1\n",
        "        k+=1\n",
        "\n",
        "    while i < len_a:\n",
        "        arr[k] = a[i]\n",
        "        i+=1\n",
        "        k+=1\n",
        "\n",
        "    while j < len_b:\n",
        "        arr[k] = b[j]\n",
        "        j+=1\n",
        "        k+=1\n",
        "\n",
        "if __name__ == '__main__':\n",
        "    test_cases = [\n",
        "        [10, 3, 15, 7, 8]\n",
        "    ]\n",
        "\n",
        "    for arr in test_cases:\n",
        "        merge_sort(arr)\n",
        "        print(arr)"
      ],
      "metadata": {
        "id": "ux-AEMx0_fws",
        "outputId": "573f30aa-8ba9-4d7b-f699-ccb23f960297",
        "colab": {
          "base_uri": "https://localhost:8080/"
        }
      },
      "execution_count": 25,
      "outputs": [
        {
          "output_type": "stream",
          "name": "stdout",
          "text": [
            "123\n",
            "123\n",
            "123\n",
            "123\n",
            "123\n",
            "123\n",
            "123\n",
            "[3, 7, 8, 10, 15, 23, 29, 98]\n"
          ]
        }
      ]
    },
    {
      "cell_type": "code",
      "source": [
        ""
      ],
      "metadata": {
        "id": "I772BK3RdPZ5"
      },
      "execution_count": null,
      "outputs": []
    }
  ],
  "metadata": {
    "colab": {
      "collapsed_sections": [],
      "name": "Welcome To Colaboratory",
      "provenance": [],
      "include_colab_link": true
    },
    "kernelspec": {
      "display_name": "Python 3",
      "name": "python3"
    }
  },
  "nbformat": 4,
  "nbformat_minor": 0
}